{
 "cells": [
  {
   "cell_type": "code",
   "execution_count": 1,
   "id": "d67fa2e0",
   "metadata": {},
   "outputs": [],
   "source": [
    "import numpy as np\n",
    "import pandas as pd\n",
    "import matplotlib.pyplot as plt\n",
    "import pandas_datareader as data\n",
    "import yfinance as yf"
   ]
  },
  {
   "cell_type": "markdown",
   "id": "77d3638d",
   "metadata": {},
   "source": [
    "Apple = yf.download(\"AAPL\",start=\"2010-01-01\",end=\"2023-01-01\")"
   ]
  },
  {
   "cell_type": "code",
   "execution_count": 2,
   "id": "ecc1812f",
   "metadata": {},
   "outputs": [
    {
     "name": "stdout",
     "output_type": "stream",
     "text": [
      "[*********************100%%**********************]  1 of 1 completed\n"
     ]
    },
    {
     "data": {
      "text/html": [
       "<div>\n",
       "<style scoped>\n",
       "    .dataframe tbody tr th:only-of-type {\n",
       "        vertical-align: middle;\n",
       "    }\n",
       "\n",
       "    .dataframe tbody tr th {\n",
       "        vertical-align: top;\n",
       "    }\n",
       "\n",
       "    .dataframe thead th {\n",
       "        text-align: right;\n",
       "    }\n",
       "</style>\n",
       "<table border=\"1\" class=\"dataframe\">\n",
       "  <thead>\n",
       "    <tr style=\"text-align: right;\">\n",
       "      <th></th>\n",
       "      <th>Open</th>\n",
       "      <th>High</th>\n",
       "      <th>Low</th>\n",
       "      <th>Close</th>\n",
       "      <th>Adj Close</th>\n",
       "      <th>Volume</th>\n",
       "    </tr>\n",
       "    <tr>\n",
       "      <th>Date</th>\n",
       "      <th></th>\n",
       "      <th></th>\n",
       "      <th></th>\n",
       "      <th></th>\n",
       "      <th></th>\n",
       "      <th></th>\n",
       "    </tr>\n",
       "  </thead>\n",
       "  <tbody>\n",
       "    <tr>\n",
       "      <th>2010-01-04</th>\n",
       "      <td>7.622500</td>\n",
       "      <td>7.660714</td>\n",
       "      <td>7.585000</td>\n",
       "      <td>7.643214</td>\n",
       "      <td>6.478998</td>\n",
       "      <td>493729600</td>\n",
       "    </tr>\n",
       "    <tr>\n",
       "      <th>2010-01-05</th>\n",
       "      <td>7.664286</td>\n",
       "      <td>7.699643</td>\n",
       "      <td>7.616071</td>\n",
       "      <td>7.656429</td>\n",
       "      <td>6.490199</td>\n",
       "      <td>601904800</td>\n",
       "    </tr>\n",
       "    <tr>\n",
       "      <th>2010-01-06</th>\n",
       "      <td>7.656429</td>\n",
       "      <td>7.686786</td>\n",
       "      <td>7.526786</td>\n",
       "      <td>7.534643</td>\n",
       "      <td>6.386964</td>\n",
       "      <td>552160000</td>\n",
       "    </tr>\n",
       "    <tr>\n",
       "      <th>2010-01-07</th>\n",
       "      <td>7.562500</td>\n",
       "      <td>7.571429</td>\n",
       "      <td>7.466071</td>\n",
       "      <td>7.520714</td>\n",
       "      <td>6.375157</td>\n",
       "      <td>477131200</td>\n",
       "    </tr>\n",
       "    <tr>\n",
       "      <th>2010-01-08</th>\n",
       "      <td>7.510714</td>\n",
       "      <td>7.571429</td>\n",
       "      <td>7.466429</td>\n",
       "      <td>7.570714</td>\n",
       "      <td>6.417541</td>\n",
       "      <td>447610800</td>\n",
       "    </tr>\n",
       "  </tbody>\n",
       "</table>\n",
       "</div>"
      ],
      "text/plain": [
       "                Open      High       Low     Close  Adj Close     Volume\n",
       "Date                                                                    \n",
       "2010-01-04  7.622500  7.660714  7.585000  7.643214   6.478998  493729600\n",
       "2010-01-05  7.664286  7.699643  7.616071  7.656429   6.490199  601904800\n",
       "2010-01-06  7.656429  7.686786  7.526786  7.534643   6.386964  552160000\n",
       "2010-01-07  7.562500  7.571429  7.466071  7.520714   6.375157  477131200\n",
       "2010-01-08  7.510714  7.571429  7.466429  7.570714   6.417541  447610800"
      ]
     },
     "execution_count": 2,
     "metadata": {},
     "output_type": "execute_result"
    }
   ],
   "source": [
    "df=yf.download(\"AAPL\",start=\"2010-01-01\",end=\"2023-01-01\")\n",
    "df.head()"
   ]
  },
  {
   "cell_type": "code",
   "execution_count": 3,
   "id": "705607d9",
   "metadata": {},
   "outputs": [
    {
     "data": {
      "text/html": [
       "<div>\n",
       "<style scoped>\n",
       "    .dataframe tbody tr th:only-of-type {\n",
       "        vertical-align: middle;\n",
       "    }\n",
       "\n",
       "    .dataframe tbody tr th {\n",
       "        vertical-align: top;\n",
       "    }\n",
       "\n",
       "    .dataframe thead th {\n",
       "        text-align: right;\n",
       "    }\n",
       "</style>\n",
       "<table border=\"1\" class=\"dataframe\">\n",
       "  <thead>\n",
       "    <tr style=\"text-align: right;\">\n",
       "      <th></th>\n",
       "      <th>Open</th>\n",
       "      <th>High</th>\n",
       "      <th>Low</th>\n",
       "      <th>Close</th>\n",
       "      <th>Adj Close</th>\n",
       "      <th>Volume</th>\n",
       "    </tr>\n",
       "    <tr>\n",
       "      <th>Date</th>\n",
       "      <th></th>\n",
       "      <th></th>\n",
       "      <th></th>\n",
       "      <th></th>\n",
       "      <th></th>\n",
       "      <th></th>\n",
       "    </tr>\n",
       "  </thead>\n",
       "  <tbody>\n",
       "    <tr>\n",
       "      <th>2022-12-23</th>\n",
       "      <td>130.919998</td>\n",
       "      <td>132.419998</td>\n",
       "      <td>129.639999</td>\n",
       "      <td>131.860001</td>\n",
       "      <td>131.127060</td>\n",
       "      <td>63814900</td>\n",
       "    </tr>\n",
       "    <tr>\n",
       "      <th>2022-12-27</th>\n",
       "      <td>131.380005</td>\n",
       "      <td>131.410004</td>\n",
       "      <td>128.720001</td>\n",
       "      <td>130.029999</td>\n",
       "      <td>129.307236</td>\n",
       "      <td>69007800</td>\n",
       "    </tr>\n",
       "    <tr>\n",
       "      <th>2022-12-28</th>\n",
       "      <td>129.669998</td>\n",
       "      <td>131.029999</td>\n",
       "      <td>125.870003</td>\n",
       "      <td>126.040001</td>\n",
       "      <td>125.339417</td>\n",
       "      <td>85438400</td>\n",
       "    </tr>\n",
       "    <tr>\n",
       "      <th>2022-12-29</th>\n",
       "      <td>127.989998</td>\n",
       "      <td>130.479996</td>\n",
       "      <td>127.730003</td>\n",
       "      <td>129.610001</td>\n",
       "      <td>128.889572</td>\n",
       "      <td>75703700</td>\n",
       "    </tr>\n",
       "    <tr>\n",
       "      <th>2022-12-30</th>\n",
       "      <td>128.410004</td>\n",
       "      <td>129.949997</td>\n",
       "      <td>127.430000</td>\n",
       "      <td>129.929993</td>\n",
       "      <td>129.207779</td>\n",
       "      <td>77034200</td>\n",
       "    </tr>\n",
       "  </tbody>\n",
       "</table>\n",
       "</div>"
      ],
      "text/plain": [
       "                  Open        High         Low       Close   Adj Close  \\\n",
       "Date                                                                     \n",
       "2022-12-23  130.919998  132.419998  129.639999  131.860001  131.127060   \n",
       "2022-12-27  131.380005  131.410004  128.720001  130.029999  129.307236   \n",
       "2022-12-28  129.669998  131.029999  125.870003  126.040001  125.339417   \n",
       "2022-12-29  127.989998  130.479996  127.730003  129.610001  128.889572   \n",
       "2022-12-30  128.410004  129.949997  127.430000  129.929993  129.207779   \n",
       "\n",
       "              Volume  \n",
       "Date                  \n",
       "2022-12-23  63814900  \n",
       "2022-12-27  69007800  \n",
       "2022-12-28  85438400  \n",
       "2022-12-29  75703700  \n",
       "2022-12-30  77034200  "
      ]
     },
     "execution_count": 3,
     "metadata": {},
     "output_type": "execute_result"
    }
   ],
   "source": [
    "df.tail()"
   ]
  },
  {
   "cell_type": "code",
   "execution_count": 4,
   "id": "4edd70cf",
   "metadata": {},
   "outputs": [
    {
     "data": {
      "text/html": [
       "<div>\n",
       "<style scoped>\n",
       "    .dataframe tbody tr th:only-of-type {\n",
       "        vertical-align: middle;\n",
       "    }\n",
       "\n",
       "    .dataframe tbody tr th {\n",
       "        vertical-align: top;\n",
       "    }\n",
       "\n",
       "    .dataframe thead th {\n",
       "        text-align: right;\n",
       "    }\n",
       "</style>\n",
       "<table border=\"1\" class=\"dataframe\">\n",
       "  <thead>\n",
       "    <tr style=\"text-align: right;\">\n",
       "      <th></th>\n",
       "      <th>Date</th>\n",
       "      <th>Open</th>\n",
       "      <th>High</th>\n",
       "      <th>Low</th>\n",
       "      <th>Close</th>\n",
       "      <th>Adj Close</th>\n",
       "      <th>Volume</th>\n",
       "    </tr>\n",
       "  </thead>\n",
       "  <tbody>\n",
       "    <tr>\n",
       "      <th>0</th>\n",
       "      <td>2010-01-04</td>\n",
       "      <td>7.622500</td>\n",
       "      <td>7.660714</td>\n",
       "      <td>7.585000</td>\n",
       "      <td>7.643214</td>\n",
       "      <td>6.478998</td>\n",
       "      <td>493729600</td>\n",
       "    </tr>\n",
       "    <tr>\n",
       "      <th>1</th>\n",
       "      <td>2010-01-05</td>\n",
       "      <td>7.664286</td>\n",
       "      <td>7.699643</td>\n",
       "      <td>7.616071</td>\n",
       "      <td>7.656429</td>\n",
       "      <td>6.490199</td>\n",
       "      <td>601904800</td>\n",
       "    </tr>\n",
       "    <tr>\n",
       "      <th>2</th>\n",
       "      <td>2010-01-06</td>\n",
       "      <td>7.656429</td>\n",
       "      <td>7.686786</td>\n",
       "      <td>7.526786</td>\n",
       "      <td>7.534643</td>\n",
       "      <td>6.386964</td>\n",
       "      <td>552160000</td>\n",
       "    </tr>\n",
       "    <tr>\n",
       "      <th>3</th>\n",
       "      <td>2010-01-07</td>\n",
       "      <td>7.562500</td>\n",
       "      <td>7.571429</td>\n",
       "      <td>7.466071</td>\n",
       "      <td>7.520714</td>\n",
       "      <td>6.375157</td>\n",
       "      <td>477131200</td>\n",
       "    </tr>\n",
       "    <tr>\n",
       "      <th>4</th>\n",
       "      <td>2010-01-08</td>\n",
       "      <td>7.510714</td>\n",
       "      <td>7.571429</td>\n",
       "      <td>7.466429</td>\n",
       "      <td>7.570714</td>\n",
       "      <td>6.417541</td>\n",
       "      <td>447610800</td>\n",
       "    </tr>\n",
       "  </tbody>\n",
       "</table>\n",
       "</div>"
      ],
      "text/plain": [
       "        Date      Open      High       Low     Close  Adj Close     Volume\n",
       "0 2010-01-04  7.622500  7.660714  7.585000  7.643214   6.478998  493729600\n",
       "1 2010-01-05  7.664286  7.699643  7.616071  7.656429   6.490199  601904800\n",
       "2 2010-01-06  7.656429  7.686786  7.526786  7.534643   6.386964  552160000\n",
       "3 2010-01-07  7.562500  7.571429  7.466071  7.520714   6.375157  477131200\n",
       "4 2010-01-08  7.510714  7.571429  7.466429  7.570714   6.417541  447610800"
      ]
     },
     "execution_count": 4,
     "metadata": {},
     "output_type": "execute_result"
    }
   ],
   "source": [
    "df=df.reset_index()\n",
    "df.head()"
   ]
  },
  {
   "cell_type": "code",
   "execution_count": 5,
   "id": "1b3d2b91",
   "metadata": {},
   "outputs": [],
   "source": [
    "df= df.drop(['Date','Adj Close'],axis=1)"
   ]
  },
  {
   "cell_type": "code",
   "execution_count": 6,
   "id": "d5253a88",
   "metadata": {},
   "outputs": [
    {
     "data": {
      "text/html": [
       "<div>\n",
       "<style scoped>\n",
       "    .dataframe tbody tr th:only-of-type {\n",
       "        vertical-align: middle;\n",
       "    }\n",
       "\n",
       "    .dataframe tbody tr th {\n",
       "        vertical-align: top;\n",
       "    }\n",
       "\n",
       "    .dataframe thead th {\n",
       "        text-align: right;\n",
       "    }\n",
       "</style>\n",
       "<table border=\"1\" class=\"dataframe\">\n",
       "  <thead>\n",
       "    <tr style=\"text-align: right;\">\n",
       "      <th></th>\n",
       "      <th>Open</th>\n",
       "      <th>High</th>\n",
       "      <th>Low</th>\n",
       "      <th>Close</th>\n",
       "      <th>Volume</th>\n",
       "    </tr>\n",
       "  </thead>\n",
       "  <tbody>\n",
       "    <tr>\n",
       "      <th>0</th>\n",
       "      <td>7.622500</td>\n",
       "      <td>7.660714</td>\n",
       "      <td>7.585000</td>\n",
       "      <td>7.643214</td>\n",
       "      <td>493729600</td>\n",
       "    </tr>\n",
       "    <tr>\n",
       "      <th>1</th>\n",
       "      <td>7.664286</td>\n",
       "      <td>7.699643</td>\n",
       "      <td>7.616071</td>\n",
       "      <td>7.656429</td>\n",
       "      <td>601904800</td>\n",
       "    </tr>\n",
       "    <tr>\n",
       "      <th>2</th>\n",
       "      <td>7.656429</td>\n",
       "      <td>7.686786</td>\n",
       "      <td>7.526786</td>\n",
       "      <td>7.534643</td>\n",
       "      <td>552160000</td>\n",
       "    </tr>\n",
       "    <tr>\n",
       "      <th>3</th>\n",
       "      <td>7.562500</td>\n",
       "      <td>7.571429</td>\n",
       "      <td>7.466071</td>\n",
       "      <td>7.520714</td>\n",
       "      <td>477131200</td>\n",
       "    </tr>\n",
       "    <tr>\n",
       "      <th>4</th>\n",
       "      <td>7.510714</td>\n",
       "      <td>7.571429</td>\n",
       "      <td>7.466429</td>\n",
       "      <td>7.570714</td>\n",
       "      <td>447610800</td>\n",
       "    </tr>\n",
       "  </tbody>\n",
       "</table>\n",
       "</div>"
      ],
      "text/plain": [
       "       Open      High       Low     Close     Volume\n",
       "0  7.622500  7.660714  7.585000  7.643214  493729600\n",
       "1  7.664286  7.699643  7.616071  7.656429  601904800\n",
       "2  7.656429  7.686786  7.526786  7.534643  552160000\n",
       "3  7.562500  7.571429  7.466071  7.520714  477131200\n",
       "4  7.510714  7.571429  7.466429  7.570714  447610800"
      ]
     },
     "execution_count": 6,
     "metadata": {},
     "output_type": "execute_result"
    }
   ],
   "source": [
    "df.head()"
   ]
  },
  {
   "cell_type": "code",
   "execution_count": 7,
   "id": "936e00b1",
   "metadata": {},
   "outputs": [
    {
     "data": {
      "text/plain": [
       "[<matplotlib.lines.Line2D at 0x211322ff550>]"
      ]
     },
     "execution_count": 7,
     "metadata": {},
     "output_type": "execute_result"
    },
    {
     "data": {
      "image/png": "[encoded data removed]",
      "text/plain": [
       "<Figure size 640x480 with 1 Axes>"
      ]
     },
     "metadata": {},
     "output_type": "display_data"
    }
   ],
   "source": [
    "plt.plot(df.Close)"
   ]
  },
  {
   "cell_type": "code",
   "execution_count": 8,
   "id": "f52fc1c4",
   "metadata": {},
   "outputs": [],
   "source": [
    "ma100 = df.Close.rolling(100).mean()"
   ]
  },
  {
   "cell_type": "code",
   "execution_count": 9,
   "id": "bd1a7b3e",
   "metadata": {},
   "outputs": [
    {
     "data": {
      "text/plain": [
       "0              NaN\n",
       "1              NaN\n",
       "2              NaN\n",
       "3              NaN\n",
       "4              NaN\n",
       "           ...    \n",
       "3267    150.515600\n",
       "3268    150.157800\n",
       "3269    149.764699\n",
       "3270    149.412100\n",
       "3271    149.062199\n",
       "Name: Close, Length: 3272, dtype: float64"
      ]
     },
     "execution_count": 9,
     "metadata": {},
     "output_type": "execute_result"
    }
   ],
   "source": [
    "ma100"
   ]
  },
  {
   "cell_type": "code",
   "execution_count": 10,
   "id": "93d3ce15",
   "metadata": {},
   "outputs": [
    {
     "data": {
      "text/plain": [
       "[<matplotlib.lines.Line2D at 0x2113238af10>]"
      ]
     },
     "execution_count": 10,
     "metadata": {},
     "output_type": "execute_result"
    },
    {
     "data": {
      "image/png": "[encoded data removed]",
      "text/plain": [
       "<Figure size 1200x600 with 1 Axes>"
      ]
     },
     "metadata": {},
     "output_type": "display_data"
    }
   ],
   "source": [
    "plt.figure(figsize=(12,6))\n",
    "plt.plot(df.Close)\n",
    "plt.plot(ma100,'r')"
   ]
  },
  {
   "cell_type": "code",
   "execution_count": 11,
   "id": "007833af",
   "metadata": {},
   "outputs": [
    {
     "data": {
      "text/plain": [
       "0            NaN\n",
       "1            NaN\n",
       "2            NaN\n",
       "3            NaN\n",
       "4            NaN\n",
       "          ...   \n",
       "3267    152.1331\n",
       "3268    152.0096\n",
       "3269    151.8867\n",
       "3270    151.7593\n",
       "3271    151.6110\n",
       "Name: Close, Length: 3272, dtype: float64"
      ]
     },
     "execution_count": 11,
     "metadata": {},
     "output_type": "execute_result"
    }
   ],
   "source": [
    "ma200 = df.Close.rolling(200).mean()\n",
    "ma200"
   ]
  },
  {
   "cell_type": "code",
   "execution_count": 12,
   "id": "1b7abc3b",
   "metadata": {},
   "outputs": [
    {
     "data": {
      "text/plain": [
       "[<matplotlib.lines.Line2D at 0x211326e6ad0>]"
      ]
     },
     "execution_count": 12,
     "metadata": {},
     "output_type": "execute_result"
    },
    {
     "data": {
      "image/png": "[encoded data removed]",
      "text/plain": [
       "<Figure size 1200x600 with 1 Axes>"
      ]
     },
     "metadata": {},
     "output_type": "display_data"
    }
   ],
   "source": [
    "plt.figure(figsize=(12,6))\n",
    "plt.plot(df.Close)\n",
    "plt.plot(ma100,'r')\n",
    "plt.plot(ma200,'g')"
   ]
  },
  {
   "cell_type": "code",
   "execution_count": 13,
   "id": "224f050e",
   "metadata": {
    "scrolled": true
   },
   "outputs": [
    {
     "name": "stdout",
     "output_type": "stream",
     "text": [
      "(2290, 1)\n",
      "(982, 1)\n"
     ]
    }
   ],
   "source": [
    "data_training = pd.DataFrame(df['Close'][0:int(len(df)*0.70)])\n",
    "data_testing = pd.DataFrame(df['Close'][int(len(df)*0.70): int(len(df))])\n",
    "\n",
    "print(data_training.shape)\n",
    "print(data_testing.shape)"
   ]
  },
  {
   "cell_type": "markdown",
   "id": "642eda57",
   "metadata": {},
   "source": [
    "## data training 70%"
   ]
  },
  {
   "cell_type": "code",
   "execution_count": 14,
   "id": "3fbd1aa8",
   "metadata": {},
   "outputs": [
    {
     "data": {
      "text/html": [
       "<div>\n",
       "<style scoped>\n",
       "    .dataframe tbody tr th:only-of-type {\n",
       "        vertical-align: middle;\n",
       "    }\n",
       "\n",
       "    .dataframe tbody tr th {\n",
       "        vertical-align: top;\n",
       "    }\n",
       "\n",
       "    .dataframe thead th {\n",
       "        text-align: right;\n",
       "    }\n",
       "</style>\n",
       "<table border=\"1\" class=\"dataframe\">\n",
       "  <thead>\n",
       "    <tr style=\"text-align: right;\">\n",
       "      <th></th>\n",
       "      <th>Close</th>\n",
       "    </tr>\n",
       "  </thead>\n",
       "  <tbody>\n",
       "    <tr>\n",
       "      <th>0</th>\n",
       "      <td>7.643214</td>\n",
       "    </tr>\n",
       "    <tr>\n",
       "      <th>1</th>\n",
       "      <td>7.656429</td>\n",
       "    </tr>\n",
       "    <tr>\n",
       "      <th>2</th>\n",
       "      <td>7.534643</td>\n",
       "    </tr>\n",
       "    <tr>\n",
       "      <th>3</th>\n",
       "      <td>7.520714</td>\n",
       "    </tr>\n",
       "    <tr>\n",
       "      <th>4</th>\n",
       "      <td>7.570714</td>\n",
       "    </tr>\n",
       "  </tbody>\n",
       "</table>\n",
       "</div>"
      ],
      "text/plain": [
       "      Close\n",
       "0  7.643214\n",
       "1  7.656429\n",
       "2  7.534643\n",
       "3  7.520714\n",
       "4  7.570714"
      ]
     },
     "execution_count": 14,
     "metadata": {},
     "output_type": "execute_result"
    }
   ],
   "source": [
    "data_training.head()"
   ]
  },
  {
   "cell_type": "markdown",
   "id": "baf7f43f",
   "metadata": {},
   "source": [
    "## data testing  30%"
   ]
  },
  {
   "cell_type": "code",
   "execution_count": 15,
   "id": "bfea6162",
   "metadata": {},
   "outputs": [
    {
     "data": {
      "text/html": [
       "<div>\n",
       "<style scoped>\n",
       "    .dataframe tbody tr th:only-of-type {\n",
       "        vertical-align: middle;\n",
       "    }\n",
       "\n",
       "    .dataframe tbody tr th {\n",
       "        vertical-align: top;\n",
       "    }\n",
       "\n",
       "    .dataframe thead th {\n",
       "        text-align: right;\n",
       "    }\n",
       "</style>\n",
       "<table border=\"1\" class=\"dataframe\">\n",
       "  <thead>\n",
       "    <tr style=\"text-align: right;\">\n",
       "      <th></th>\n",
       "      <th>Close</th>\n",
       "    </tr>\n",
       "  </thead>\n",
       "  <tbody>\n",
       "    <tr>\n",
       "      <th>2290</th>\n",
       "      <td>42.602501</td>\n",
       "    </tr>\n",
       "    <tr>\n",
       "      <th>2291</th>\n",
       "      <td>42.357498</td>\n",
       "    </tr>\n",
       "    <tr>\n",
       "      <th>2292</th>\n",
       "      <td>42.722500</td>\n",
       "    </tr>\n",
       "    <tr>\n",
       "      <th>2293</th>\n",
       "      <td>42.544998</td>\n",
       "    </tr>\n",
       "    <tr>\n",
       "      <th>2294</th>\n",
       "      <td>42.700001</td>\n",
       "    </tr>\n",
       "  </tbody>\n",
       "</table>\n",
       "</div>"
      ],
      "text/plain": [
       "          Close\n",
       "2290  42.602501\n",
       "2291  42.357498\n",
       "2292  42.722500\n",
       "2293  42.544998\n",
       "2294  42.700001"
      ]
     },
     "execution_count": 15,
     "metadata": {},
     "output_type": "execute_result"
    }
   ],
   "source": [
    "data_testing.head()"
   ]
  },
  {
   "cell_type": "code",
   "execution_count": 16,
   "id": "9d900272",
   "metadata": {},
   "outputs": [],
   "source": [
    "from sklearn.preprocessing import MinMaxScaler\n",
    "scaler = MinMaxScaler(feature_range=(0,1))"
   ]
  },
  {
   "cell_type": "code",
   "execution_count": 17,
   "id": "73ca95fe",
   "metadata": {},
   "outputs": [
    {
     "data": {
      "text/plain": [
       "array([[0.01533047],\n",
       "       [0.01558878],\n",
       "       [0.01320823],\n",
       "       ...,\n",
       "       [0.71710501],\n",
       "       [0.71739828],\n",
       "       [0.70127194]])"
      ]
     },
     "execution_count": 17,
     "metadata": {},
     "output_type": "execute_result"
    }
   ],
   "source": [
    "data_training_array = scaler.fit_transform(data_training)\n",
    "data_training_array"
   ]
  },
  {
   "cell_type": "code",
   "execution_count": 18,
   "id": "f72545d1",
   "metadata": {},
   "outputs": [],
   "source": [
    "x_train=[]\n",
    "y_train=[]\n",
    "\n",
    "for i in range(100,data_training_array.shape[0]):\n",
    "    x_train.append(data_training_array[i-100:i])\n",
    "    y_train.append(data_training_array[i,0])\n",
    "x_train,y_train = np.array(x_train),np.array(y_train)"
   ]
  },
  {
   "cell_type": "code",
   "execution_count": 19,
   "id": "d628b0ce",
   "metadata": {},
   "outputs": [
    {
     "data": {
      "text/plain": [
       "(2190, 100, 1)"
      ]
     },
     "execution_count": 19,
     "metadata": {},
     "output_type": "execute_result"
    }
   ],
   "source": [
    "x_train.shape"
   ]
  },
  {
   "cell_type": "markdown",
   "id": "5b680104",
   "metadata": {},
   "source": [
    "# Now we are gone use LSTM model"
   ]
  },
  {
   "cell_type": "code",
   "execution_count": 20,
   "id": "9e1c8ee6",
   "metadata": {},
   "outputs": [
    {
     "name": "stdout",
     "output_type": "stream",
     "text": [
      "WARNING:tensorflow:From C:\\Users\\Mukul\\anaconda3\\Lib\\site-packages\\keras\\src\\losses.py:2976: The name tf.losses.sparse_softmax_cross_entropy is deprecated. Please use tf.compat.v1.losses.sparse_softmax_cross_entropy instead.\n",
      "\n"
     ]
    }
   ],
   "source": [
    "from keras.layers import Dense, Dropout, LSTM\n",
    "from keras.models import Sequential"
   ]
  },
  {
   "cell_type": "code",
   "execution_count": 21,
   "id": "3f251d68",
   "metadata": {},
   "outputs": [
    {
     "name": "stdout",
     "output_type": "stream",
     "text": [
      "WARNING:tensorflow:From C:\\Users\\Mukul\\anaconda3\\Lib\\site-packages\\keras\\src\\backend.py:873: The name tf.get_default_graph is deprecated. Please use tf.compat.v1.get_default_graph instead.\n",
      "\n",
      "Model: \"sequential\"\n",
      "_________________________________________________________________\n",
      " Layer (type)                Output Shape              Param #   \n",
      "=================================================================\n",
      " lstm (LSTM)                 (None, 100, 50)           10400     \n",
      "                                                                 \n",
      " dropout (Dropout)           (None, 100, 50)           0         \n",
      "                                                                 \n",
      " lstm_1 (LSTM)               (None, 100, 60)           26640     \n",
      "                                                                 \n",
      " dropout_1 (Dropout)         (None, 100, 60)           0         \n",
      "                                                                 \n",
      " lstm_2 (LSTM)               (None, 100, 80)           45120     \n",
      "                                                                 \n",
      " dropout_2 (Dropout)         (None, 100, 80)           0         \n",
      "                                                                 \n",
      " lstm_3 (LSTM)               (None, 120)               96480     \n",
      "                                                                 \n",
      " dropout_3 (Dropout)         (None, 120)               0         \n",
      "                                                                 \n",
      " flatten (Flatten)           (None, 120)               0         \n",
      "                                                                 \n",
      " dense (Dense)               (None, 1)                 121       \n",
      "                                                                 \n",
      "=================================================================\n",
      "Total params: 178761 (698.29 KB)\n",
      "Trainable params: 178761 (698.29 KB)\n",
      "Non-trainable params: 0 (0.00 Byte)\n",
      "_________________________________________________________________\n"
     ]
    }
   ],
   "source": [
    "from keras.layers import Flatten\n",
    "\n",
    "model = Sequential()\n",
    "model.add(LSTM(units=50, activation='relu', return_sequences=True, \n",
    "               input_shape=(x_train.shape[1], 1)))\n",
    "model.add(Dropout(0.2))\n",
    "\n",
    "model.add(LSTM(units=60, activation='relu', return_sequences=True))\n",
    "model.add(Dropout(0.3))\n",
    "\n",
    "model.add(LSTM(units=80, activation='relu', return_sequences=True))\n",
    "model.add(Dropout(0.4))\n",
    "\n",
    "model.add(LSTM(units=120, activation='relu', return_sequences=False))\n",
    "model.add(Dropout(0.5))\n",
    "\n",
    "model.add(Flatten())  # Flatten layer to convert output to 2D\n",
    "\n",
    "model.add(Dense(units=1))\n",
    "\n",
    "model.summary()\n"
   ]
  },
  {
   "cell_type": "code",
   "execution_count": 22,
   "id": "778d2f74",
   "metadata": {},
   "outputs": [
    {
     "name": "stdout",
     "output_type": "stream",
     "text": [
      "WARNING:tensorflow:From C:\\Users\\Mukul\\anaconda3\\Lib\\site-packages\\keras\\src\\optimizers\\__init__.py:309: The name tf.train.Optimizer is deprecated. Please use tf.compat.v1.train.Optimizer instead.\n",
      "\n",
      "Epoch 1/100\n",
      "WARNING:tensorflow:From C:\\Users\\Mukul\\anaconda3\\Lib\\site-packages\\keras\\src\\utils\\tf_utils.py:492: The name tf.ragged.RaggedTensorValue is deprecated. Please use tf.compat.v1.ragged.RaggedTensorValue instead.\n",
      "\n",
      "69/69 [==============================] - 14s 119ms/step - loss: 0.0308\n",
      "Epoch 2/100\n",
      "69/69 [==============================] - 9s 126ms/step - loss: 0.0066\n",
      "Epoch 3/100\n",
      "69/69 [==============================] - 9s 125ms/step - loss: 0.0058\n",
      "Epoch 4/100\n",
      "69/69 [==============================] - 9s 126ms/step - loss: 0.0049\n",
      "Epoch 5/100\n",
      "69/69 [==============================] - 8s 123ms/step - loss: 0.0049\n",
      "Epoch 6/100\n",
      "69/69 [==============================] - 9s 123ms/step - loss: 0.0046\n",
      "Epoch 7/100\n",
      "69/69 [==============================] - 9s 123ms/step - loss: 0.0043\n",
      "Epoch 8/100\n",
      "69/69 [==============================] - 9s 126ms/step - loss: 0.0041\n",
      "Epoch 9/100\n",
      "69/69 [==============================] - 8s 123ms/step - loss: 0.0038\n",
      "Epoch 10/100\n",
      "69/69 [==============================] - 9s 126ms/step - loss: 0.0041\n",
      "Epoch 11/100\n",
      "69/69 [==============================] - 8s 120ms/step - loss: 0.0036\n",
      "Epoch 12/100\n",
      "69/69 [==============================] - 8s 121ms/step - loss: 0.0034\n",
      "Epoch 13/100\n",
      "69/69 [==============================] - 9s 123ms/step - loss: 0.0036\n",
      "Epoch 14/100\n",
      "69/69 [==============================] - 8s 122ms/step - loss: 0.0031\n",
      "Epoch 15/100\n",
      "69/69 [==============================] - 8s 119ms/step - loss: 0.0030\n",
      "Epoch 16/100\n",
      "69/69 [==============================] - 8s 120ms/step - loss: 0.0031\n",
      "Epoch 17/100\n",
      "69/69 [==============================] - 8s 120ms/step - loss: 0.0031\n",
      "Epoch 18/100\n",
      "69/69 [==============================] - 8s 119ms/step - loss: 0.0030\n",
      "Epoch 19/100\n",
      "69/69 [==============================] - 8s 120ms/step - loss: 0.0028\n",
      "Epoch 20/100\n",
      "69/69 [==============================] - 8s 118ms/step - loss: 0.0027\n",
      "Epoch 21/100\n",
      "69/69 [==============================] - 8s 122ms/step - loss: 0.0028\n",
      "Epoch 22/100\n",
      "69/69 [==============================] - 8s 119ms/step - loss: 0.0027\n",
      "Epoch 23/100\n",
      "69/69 [==============================] - 8s 119ms/step - loss: 0.0023\n",
      "Epoch 24/100\n",
      "69/69 [==============================] - 8s 121ms/step - loss: 0.0022\n",
      "Epoch 25/100\n",
      "69/69 [==============================] - 8s 123ms/step - loss: 0.0022\n",
      "Epoch 26/100\n",
      "69/69 [==============================] - 8s 120ms/step - loss: 0.0025\n",
      "Epoch 27/100\n",
      "69/69 [==============================] - 8s 120ms/step - loss: 0.0023\n",
      "Epoch 28/100\n",
      "69/69 [==============================] - 8s 120ms/step - loss: 0.0022\n",
      "Epoch 29/100\n",
      "69/69 [==============================] - 9s 125ms/step - loss: 0.0022\n",
      "Epoch 30/100\n",
      "69/69 [==============================] - 8s 123ms/step - loss: 0.0022\n",
      "Epoch 31/100\n",
      "69/69 [==============================] - 9s 129ms/step - loss: 0.0019\n",
      "Epoch 32/100\n",
      "69/69 [==============================] - 9s 128ms/step - loss: 0.0020\n",
      "Epoch 33/100\n",
      "69/69 [==============================] - 9s 129ms/step - loss: 0.0020\n",
      "Epoch 34/100\n",
      "69/69 [==============================] - 9s 127ms/step - loss: 0.0021\n",
      "Epoch 35/100\n",
      "69/69 [==============================] - 9s 128ms/step - loss: 0.0019\n",
      "Epoch 36/100\n",
      "69/69 [==============================] - 9s 127ms/step - loss: 0.0019\n",
      "Epoch 37/100\n",
      "69/69 [==============================] - 9s 124ms/step - loss: 0.0020\n",
      "Epoch 38/100\n",
      "69/69 [==============================] - 9s 126ms/step - loss: 0.0018\n",
      "Epoch 39/100\n",
      "69/69 [==============================] - 9s 125ms/step - loss: 0.0017\n",
      "Epoch 40/100\n",
      "69/69 [==============================] - 9s 124ms/step - loss: 0.0019\n",
      "Epoch 41/100\n",
      "69/69 [==============================] - 8s 123ms/step - loss: 0.0020\n",
      "Epoch 42/100\n",
      "69/69 [==============================] - 9s 128ms/step - loss: 0.0018\n",
      "Epoch 43/100\n",
      "69/69 [==============================] - 9s 125ms/step - loss: 0.0020\n",
      "Epoch 44/100\n",
      "69/69 [==============================] - 8s 121ms/step - loss: 0.0021\n",
      "Epoch 45/100\n",
      "69/69 [==============================] - 8s 118ms/step - loss: 0.0019\n",
      "Epoch 46/100\n",
      "69/69 [==============================] - 8s 121ms/step - loss: 0.0018\n",
      "Epoch 47/100\n",
      "69/69 [==============================] - 8s 118ms/step - loss: 0.0016\n",
      "Epoch 48/100\n",
      "69/69 [==============================] - 8s 120ms/step - loss: 0.0016\n",
      "Epoch 49/100\n",
      "69/69 [==============================] - 8s 120ms/step - loss: 0.0015\n",
      "Epoch 50/100\n",
      "69/69 [==============================] - 8s 117ms/step - loss: 0.0018\n",
      "Epoch 51/100\n",
      "69/69 [==============================] - 8s 117ms/step - loss: 0.0016\n",
      "Epoch 52/100\n",
      "69/69 [==============================] - 8s 117ms/step - loss: 0.0020\n",
      "Epoch 53/100\n",
      "69/69 [==============================] - 8s 117ms/step - loss: 0.0017\n",
      "Epoch 54/100\n",
      "69/69 [==============================] - 8s 118ms/step - loss: 0.0016\n",
      "Epoch 55/100\n",
      "69/69 [==============================] - 8s 118ms/step - loss: 0.0019\n",
      "Epoch 56/100\n",
      "69/69 [==============================] - 8s 120ms/step - loss: 0.0017\n",
      "Epoch 57/100\n",
      "69/69 [==============================] - 8s 121ms/step - loss: 0.0015\n",
      "Epoch 58/100\n",
      "69/69 [==============================] - 8s 119ms/step - loss: 0.0015\n",
      "Epoch 59/100\n",
      "69/69 [==============================] - 8s 120ms/step - loss: 0.0017\n",
      "Epoch 60/100\n",
      "69/69 [==============================] - 8s 118ms/step - loss: 0.0017\n",
      "Epoch 61/100\n",
      "69/69 [==============================] - 8s 120ms/step - loss: 0.0016\n",
      "Epoch 62/100\n",
      "69/69 [==============================] - 8s 120ms/step - loss: 0.0017\n",
      "Epoch 63/100\n",
      "69/69 [==============================] - 8s 122ms/step - loss: 0.0015\n",
      "Epoch 64/100\n",
      "69/69 [==============================] - 9s 123ms/step - loss: 0.0016\n",
      "Epoch 65/100\n",
      "69/69 [==============================] - 8s 121ms/step - loss: 0.0017\n",
      "Epoch 66/100\n",
      "69/69 [==============================] - 8s 118ms/step - loss: 0.0017\n",
      "Epoch 67/100\n",
      "69/69 [==============================] - 8s 121ms/step - loss: 0.0018\n",
      "Epoch 68/100\n",
      "69/69 [==============================] - 8s 120ms/step - loss: 0.0016\n",
      "Epoch 69/100\n",
      "69/69 [==============================] - 8s 121ms/step - loss: 0.0016\n",
      "Epoch 70/100\n",
      "69/69 [==============================] - 8s 121ms/step - loss: 0.0016\n",
      "Epoch 71/100\n",
      "69/69 [==============================] - 8s 122ms/step - loss: 0.0016\n",
      "Epoch 72/100\n",
      "69/69 [==============================] - 9s 123ms/step - loss: 0.0017\n",
      "Epoch 73/100\n",
      "69/69 [==============================] - 9s 125ms/step - loss: 0.0015\n",
      "Epoch 74/100\n",
      "69/69 [==============================] - 8s 123ms/step - loss: 0.0015\n",
      "Epoch 75/100\n",
      "69/69 [==============================] - 9s 125ms/step - loss: 0.0017\n",
      "Epoch 76/100\n",
      "69/69 [==============================] - 9s 124ms/step - loss: 0.0018\n",
      "Epoch 77/100\n",
      "69/69 [==============================] - 9s 125ms/step - loss: 0.0017\n",
      "Epoch 78/100\n",
      "69/69 [==============================] - 9s 124ms/step - loss: 0.0019\n",
      "Epoch 79/100\n",
      "69/69 [==============================] - 8s 119ms/step - loss: 0.0017\n",
      "Epoch 80/100\n",
      "69/69 [==============================] - 8s 121ms/step - loss: 0.0015\n",
      "Epoch 81/100\n",
      "69/69 [==============================] - 9s 126ms/step - loss: 0.0015\n",
      "Epoch 82/100\n",
      "69/69 [==============================] - 9s 126ms/step - loss: 0.0015\n",
      "Epoch 83/100\n",
      "69/69 [==============================] - 9s 123ms/step - loss: 0.0014\n",
      "Epoch 84/100\n",
      "69/69 [==============================] - 9s 125ms/step - loss: 0.0016\n",
      "Epoch 85/100\n",
      "69/69 [==============================] - 8s 121ms/step - loss: 0.0016\n",
      "Epoch 86/100\n",
      "69/69 [==============================] - 8s 121ms/step - loss: 0.0016\n",
      "Epoch 87/100\n",
      "69/69 [==============================] - 8s 120ms/step - loss: 0.0016\n",
      "Epoch 88/100\n",
      "69/69 [==============================] - 8s 121ms/step - loss: 0.0014\n",
      "Epoch 89/100\n",
      "69/69 [==============================] - 8s 120ms/step - loss: 0.0015\n",
      "Epoch 90/100\n",
      "69/69 [==============================] - 9s 124ms/step - loss: 0.0014\n",
      "Epoch 91/100\n",
      "69/69 [==============================] - 8s 122ms/step - loss: 0.0016\n",
      "Epoch 92/100\n",
      "69/69 [==============================] - 8s 123ms/step - loss: 0.0015\n",
      "Epoch 93/100\n",
      "69/69 [==============================] - 8s 122ms/step - loss: 0.0015\n",
      "Epoch 94/100\n"
     ]
    },
    {
     "name": "stdout",
     "output_type": "stream",
     "text": [
      "69/69 [==============================] - 8s 120ms/step - loss: 0.0015\n",
      "Epoch 95/100\n",
      "69/69 [==============================] - 8s 123ms/step - loss: 0.0016\n",
      "Epoch 96/100\n",
      "69/69 [==============================] - 8s 120ms/step - loss: 0.0016\n",
      "Epoch 97/100\n",
      "69/69 [==============================] - 8s 120ms/step - loss: 0.0017\n",
      "Epoch 98/100\n",
      "69/69 [==============================] - 8s 119ms/step - loss: 0.0015\n",
      "Epoch 99/100\n",
      "69/69 [==============================] - 8s 121ms/step - loss: 0.0015\n",
      "Epoch 100/100\n",
      "69/69 [==============================] - 9s 124ms/step - loss: 0.0015\n"
     ]
    },
    {
     "data": {
      "text/plain": [
       "<keras.src.callbacks.History at 0x2113e315a10>"
      ]
     },
     "execution_count": 22,
     "metadata": {},
     "output_type": "execute_result"
    }
   ],
   "source": [
    "model.compile(optimizer='adam',loss='mean_squared_error')\n",
    "model.fit(x_train,y_train,epochs=100)\n"
   ]
  },
  {
   "cell_type": "code",
   "execution_count": 23,
   "id": "77c3ef54",
   "metadata": {},
   "outputs": [
    {
     "name": "stderr",
     "output_type": "stream",
     "text": [
      "C:\\Users\\Mukul\\anaconda3\\Lib\\site-packages\\keras\\src\\engine\\training.py:3103: UserWarning: You are saving your model as an HDF5 file via `model.save()`. This file format is considered legacy. We recommend using instead the native Keras format, e.g. `model.save('my_model.keras')`.\n",
      "  saving_api.save_model(\n"
     ]
    }
   ],
   "source": [
    "model.save('keras_model.h5')"
   ]
  },
  {
   "cell_type": "code",
   "execution_count": 24,
   "id": "a855b920",
   "metadata": {},
   "outputs": [
    {
     "data": {
      "text/html": [
       "<div>\n",
       "<style scoped>\n",
       "    .dataframe tbody tr th:only-of-type {\n",
       "        vertical-align: middle;\n",
       "    }\n",
       "\n",
       "    .dataframe tbody tr th {\n",
       "        vertical-align: top;\n",
       "    }\n",
       "\n",
       "    .dataframe thead th {\n",
       "        text-align: right;\n",
       "    }\n",
       "</style>\n",
       "<table border=\"1\" class=\"dataframe\">\n",
       "  <thead>\n",
       "    <tr style=\"text-align: right;\">\n",
       "      <th></th>\n",
       "      <th>Close</th>\n",
       "    </tr>\n",
       "  </thead>\n",
       "  <tbody>\n",
       "    <tr>\n",
       "      <th>2290</th>\n",
       "      <td>42.602501</td>\n",
       "    </tr>\n",
       "    <tr>\n",
       "      <th>2291</th>\n",
       "      <td>42.357498</td>\n",
       "    </tr>\n",
       "    <tr>\n",
       "      <th>2292</th>\n",
       "      <td>42.722500</td>\n",
       "    </tr>\n",
       "    <tr>\n",
       "      <th>2293</th>\n",
       "      <td>42.544998</td>\n",
       "    </tr>\n",
       "    <tr>\n",
       "      <th>2294</th>\n",
       "      <td>42.700001</td>\n",
       "    </tr>\n",
       "  </tbody>\n",
       "</table>\n",
       "</div>"
      ],
      "text/plain": [
       "          Close\n",
       "2290  42.602501\n",
       "2291  42.357498\n",
       "2292  42.722500\n",
       "2293  42.544998\n",
       "2294  42.700001"
      ]
     },
     "execution_count": 24,
     "metadata": {},
     "output_type": "execute_result"
    }
   ],
   "source": [
    "data_testing.head()"
   ]
  },
  {
   "cell_type": "code",
   "execution_count": 25,
   "id": "f587e725",
   "metadata": {},
   "outputs": [
    {
     "data": {
      "text/html": [
       "<div>\n",
       "<style scoped>\n",
       "    .dataframe tbody tr th:only-of-type {\n",
       "        vertical-align: middle;\n",
       "    }\n",
       "\n",
       "    .dataframe tbody tr th {\n",
       "        vertical-align: top;\n",
       "    }\n",
       "\n",
       "    .dataframe thead th {\n",
       "        text-align: right;\n",
       "    }\n",
       "</style>\n",
       "<table border=\"1\" class=\"dataframe\">\n",
       "  <thead>\n",
       "    <tr style=\"text-align: right;\">\n",
       "      <th></th>\n",
       "      <th>Close</th>\n",
       "    </tr>\n",
       "  </thead>\n",
       "  <tbody>\n",
       "    <tr>\n",
       "      <th>2285</th>\n",
       "      <td>41.630001</td>\n",
       "    </tr>\n",
       "    <tr>\n",
       "      <th>2286</th>\n",
       "      <td>42.812500</td>\n",
       "    </tr>\n",
       "    <tr>\n",
       "      <th>2287</th>\n",
       "      <td>43.544998</td>\n",
       "    </tr>\n",
       "    <tr>\n",
       "      <th>2288</th>\n",
       "      <td>43.560001</td>\n",
       "    </tr>\n",
       "    <tr>\n",
       "      <th>2289</th>\n",
       "      <td>42.735001</td>\n",
       "    </tr>\n",
       "  </tbody>\n",
       "</table>\n",
       "</div>"
      ],
      "text/plain": [
       "          Close\n",
       "2285  41.630001\n",
       "2286  42.812500\n",
       "2287  43.544998\n",
       "2288  43.560001\n",
       "2289  42.735001"
      ]
     },
     "execution_count": 25,
     "metadata": {},
     "output_type": "execute_result"
    }
   ],
   "source": [
    "data_training.tail()"
   ]
  },
  {
   "cell_type": "code",
   "execution_count": 26,
   "id": "4fe5a83c",
   "metadata": {},
   "outputs": [],
   "source": [
    "past_100_days=data_training.tail(100)"
   ]
  },
  {
   "cell_type": "code",
   "execution_count": 27,
   "id": "943aa1f3",
   "metadata": {},
   "outputs": [],
   "source": [
    "final_df = pd.concat([past_100_days, data_testing], ignore_index=True)\n"
   ]
  },
  {
   "cell_type": "code",
   "execution_count": 28,
   "id": "2a1a7ac9",
   "metadata": {
    "scrolled": true
   },
   "outputs": [
    {
     "data": {
      "text/html": [
       "<div>\n",
       "<style scoped>\n",
       "    .dataframe tbody tr th:only-of-type {\n",
       "        vertical-align: middle;\n",
       "    }\n",
       "\n",
       "    .dataframe tbody tr th {\n",
       "        vertical-align: top;\n",
       "    }\n",
       "\n",
       "    .dataframe thead th {\n",
       "        text-align: right;\n",
       "    }\n",
       "</style>\n",
       "<table border=\"1\" class=\"dataframe\">\n",
       "  <thead>\n",
       "    <tr style=\"text-align: right;\">\n",
       "      <th></th>\n",
       "      <th>Close</th>\n",
       "    </tr>\n",
       "  </thead>\n",
       "  <tbody>\n",
       "    <tr>\n",
       "      <th>0</th>\n",
       "      <td>55.959999</td>\n",
       "    </tr>\n",
       "    <tr>\n",
       "      <th>1</th>\n",
       "      <td>54.470001</td>\n",
       "    </tr>\n",
       "    <tr>\n",
       "      <th>2</th>\n",
       "      <td>54.560001</td>\n",
       "    </tr>\n",
       "    <tr>\n",
       "      <th>3</th>\n",
       "      <td>54.592499</td>\n",
       "    </tr>\n",
       "    <tr>\n",
       "      <th>4</th>\n",
       "      <td>55.007500</td>\n",
       "    </tr>\n",
       "  </tbody>\n",
       "</table>\n",
       "</div>"
      ],
      "text/plain": [
       "       Close\n",
       "0  55.959999\n",
       "1  54.470001\n",
       "2  54.560001\n",
       "3  54.592499\n",
       "4  55.007500"
      ]
     },
     "execution_count": 28,
     "metadata": {},
     "output_type": "execute_result"
    }
   ],
   "source": [
    "final_df.head()"
   ]
  },
  {
   "cell_type": "code",
   "execution_count": 29,
   "id": "3ca3ddfb",
   "metadata": {
    "scrolled": true
   },
   "outputs": [
    {
     "data": {
      "text/plain": [
       "array([[0.13937014],\n",
       "       [0.1291969 ],\n",
       "       [0.1298114 ],\n",
       "       ...,\n",
       "       [0.61785443],\n",
       "       [0.64222927],\n",
       "       [0.64441407]])"
      ]
     },
     "execution_count": 29,
     "metadata": {},
     "output_type": "execute_result"
    }
   ],
   "source": [
    "input_data = scaler.fit_transform(final_df)\n",
    "input_data"
   ]
  },
  {
   "cell_type": "code",
   "execution_count": 30,
   "id": "d5bc7d60",
   "metadata": {},
   "outputs": [
    {
     "data": {
      "text/plain": [
       "(1082, 1)"
      ]
     },
     "execution_count": 30,
     "metadata": {},
     "output_type": "execute_result"
    }
   ],
   "source": [
    "input_data.shape\n"
   ]
  },
  {
   "cell_type": "markdown",
   "id": "279534ae",
   "metadata": {},
   "source": [
    "# should have made pipe for this it should be executed in the following sequence"
   ]
  },
  {
   "cell_type": "code",
   "execution_count": 31,
   "id": "0469a18b",
   "metadata": {},
   "outputs": [
    {
     "name": "stdout",
     "output_type": "stream",
     "text": [
      "(982, 100, 1)\n",
      "(982,)\n",
      "31/31 [==============================] - 2s 41ms/step\n"
     ]
    },
    {
     "data": {
      "image/png": "[encoded data removed]",
      "text/plain": [
       "<Figure size 1200x600 with 1 Axes>"
      ]
     },
     "metadata": {},
     "output_type": "display_data"
    }
   ],
   "source": [
    "x_test =[]\n",
    "y_test =[]\n",
    "for i in range(100 ,input_data.shape[0]):\n",
    "    x_test.append(input_data[i-100:i])\n",
    "    y_test.append(input_data[i,0])\n",
    "\n",
    "###\n",
    "x_test,y_test = np.array(x_test),np.array(y_test)\n",
    "print(x_test.shape)\n",
    "print(y_test.shape)\n",
    "\n",
    "## Make predictions\n",
    "y_predicted = model.predict(x_test)\n",
    "y_predicted = scaler.inverse_transform(y_predicted.reshape(-1, 1))  # Reshape to 2D\n",
    "\n",
    "# Inverse transform test data for plotting\n",
    "y_test = scaler.inverse_transform(y_test.reshape(-1, 1))\n",
    "\n",
    "# Plot results\n",
    "plt.figure(figsize=(12, 6))\n",
    "plt.plot(y_test, label='Actual Price', color='blue')\n",
    "plt.plot(y_predicted, label='Predicted Price', color='red')\n",
    "plt.title('Actual vs Predicted Stock Prices')\n",
    "plt.xlabel('Time')\n",
    "plt.ylabel('Price')\n",
    "plt.legend()\n",
    "plt.show()"
   ]
  },
  {
   "cell_type": "code",
   "execution_count": 32,
   "id": "dfedc5f4",
   "metadata": {},
   "outputs": [
    {
     "name": "stdout",
     "output_type": "stream",
     "text": [
      "31/31 [==============================] - 1s 40ms/step\n",
      "Mean Squared Error (MSE): 307330880.12\n",
      "Mean Absolute Error (MAE): 16420.75\n",
      "R-squared (R2): -7.06\n"
     ]
    }
   ],
   "source": [
    "from sklearn.metrics import mean_squared_error, mean_absolute_error, r2_score\n",
    "\n",
    "# Inverse transform predictions for evaluation\n",
    "y_test_predicted = model.predict(x_test)\n",
    "y_test_predicted = scaler.inverse_transform(y_test_predicted.reshape(-1, 1))  # Reshape to 2D\n",
    "\n",
    "# Inverse transform test data for evaluation\n",
    "y_test = scaler.inverse_transform(y_test.reshape(-1, 1))\n",
    "\n",
    "# Calculate metrics\n",
    "mse = mean_squared_error(y_test, y_test_predicted)\n",
    "mae = mean_absolute_error(y_test, y_test_predicted)\n",
    "r2 = r2_score(y_test, y_test_predicted)\n",
    "\n",
    "print(f'Mean Squared Error (MSE): {mse:.2f}')\n",
    "print(f'Mean Absolute Error (MAE): {mae:.2f}')\n",
    "print(f'R-squared (R2): {r2:.2f}')\n"
   ]
  },
  {
   "cell_type": "code",
   "execution_count": null,
   "id": "e2eaefe1",
   "metadata": {},
   "outputs": [],
   "source": []
  }
 ],
 "metadata": {
  "kernelspec": {
   "display_name": "Python 3 (ipykernel)",
   "language": "python",
   "name": "python3"
  },
  "language_info": {
   "codemirror_mode": {
    "name": "ipython",
    "version": 3
   },
   "file_extension": ".py",
   "mimetype": "text/x-python",
   "name": "python",
   "nbconvert_exporter": "python",
   "pygments_lexer": "ipython3",
   "version": "3.11.5"
  },
  "varInspector": {
   "cols": {
    "lenName": 16,
    "lenType": 16,
    "lenVar": 40
   },
   "kernels_config": {
    "python": {
     "delete_cmd_postfix": "",
     "delete_cmd_prefix": "del ",
     "library": "var_list.py",
     "varRefreshCmd": "print(var_dic_list())"
    },
    "r": {
     "delete_cmd_postfix": ") ",
     "delete_cmd_prefix": "rm(",
     "library": "var_list.r",
     "varRefreshCmd": "cat(var_dic_list()) "
    }
   },
   "types_to_exclude": [
    "module",
    "function",
    "builtin_function_or_method",
    "instance",
    "_Feature"
   ],
   "window_display": false
  }
 },
 "nbformat": 4,
 "nbformat_minor": 5
}
